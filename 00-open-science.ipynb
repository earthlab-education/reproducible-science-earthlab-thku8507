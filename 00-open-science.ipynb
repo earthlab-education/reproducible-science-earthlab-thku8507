{
 "cells": [
  {
   "cell_type": "markdown",
   "metadata": {
    "tags": [
     "remove_cell"
    ]
   },
   "source": [
    "<div><img style=\"float: left; padding-right: 3em;\" src=\"https://avatars.githubusercontent.com/u/19476722\" width=\"150\" /><div/>\n",
    "\n",
    "# Earth Data Science Coding Challenge!\n",
    "Before we get started, make sure to read or review the guidelines below. These will help make sure that your code is **readable** and **reproducible**. "
   ]
  },
  {
   "cell_type": "markdown",
   "metadata": {
    "tags": [
     "remove_cell"
    ]
   },
   "source": [
    "## Don't get **caught** by these Jupyter notebook gotchas\n",
    "\n",
    "<img src=\"https://miro.medium.com/v2/resize:fit:4800/format:webp/1*o0HleR7BSe8W-pTnmucqHA.jpeg\" width=300 style=\"padding: 1em; border-style: solid; border-color: grey;\" />\n",
    "\n",
    "  > *Image source: https://alaskausfws.medium.com/whats-big-and-brown-and-loves-salmon-e1803579ee36*\n",
    "\n",
    "These are the most common issues that will keep you from getting started and delay your code review:\n",
    "\n",
    "1. When you try to run some code on GitHub Codespaces, you may be prompted to select a **kernel**.\n",
    "   * The **kernel** refers to the version of Python you are using\n",
    "   * You should use the **base** kernel, which should be the default option. \n",
    "   * You can also use the `Select Kernel` menu in the upper right to select the **base** kernel\n",
    "2. Before you commit your work, make sure it runs **reproducibly** by clicking:\n",
    "   1. `Restart` (this button won't appear until you've run some code), then\n",
    "   2. `Run All`\n",
    "\n",
    "## Check your code to make sure it's clean and easy to read\n",
    "\n",
    "<img src=\"https://encrypted-tbn0.gstatic.com/images?q=tbn:ANd9GcSO1w9WrbwbuMLN14IezH-iq2HEGwO3JDvmo5Y_hQIy7k-Xo2gZH-mP2GUIG6RFWL04X1k&usqp=CAU\" height=200 />\n",
    "\n",
    "* Format all cells prior to submitting (right click on your code).\n",
    "* Use expressive names for variables so you or the reader knows what they are. \n",
    "* Use comments to explain your code -- e.g. \n",
    "  ```python\n",
    "  # This is a comment, it starts with a hash sign\n",
    "  ```\n",
    "\n",
    "## Label and describe your plots\n",
    "\n",
    "![Source: https://xkcd.com/833](https://imgs.xkcd.com/comics/convincing.png)\n",
    "\n",
    "Make sure each plot has:\n",
    "  * A title that explains where and when the data are from\n",
    "  * x- and y- axis labels with **units** where appropriate\n",
    "  * A legend where appropriate\n",
    "\n",
    "\n",
    "## Icons: how to use this notebook\n",
    "We use the following icons to let you know when you need to change something to complete the challenge:\n",
    "  * &#128187; means you need to write or edit some code.\n",
    "  \n",
    "  * &#128214;  indicates recommended reading\n",
    "  \n",
    "  * &#9998; marks written responses to questions\n",
    "  \n",
    "  * &#127798; is an optional extra challenge\n",
    "  "
   ]
  },
  {
   "cell_type": "markdown",
   "metadata": {},
   "source": [
    "---"
   ]
  },
  {
   "cell_type": "markdown",
   "metadata": {
    "deletable": false,
    "editable": false,
    "nbgrader": {
     "cell_type": "markdown",
     "checksum": "9d62f24e0900c4b0d627e206103a0e8c",
     "grade": false,
     "grade_id": "title",
     "locked": true,
     "schema_version": 3,
     "solution": false,
     "task": false
    }
   },
   "source": [
    "# Get Started with Open Reproducible Science\n",
    "\n",
    "&#128214; [Open reproducible science](https://www.earthdatascience.org/courses/intro-to-earth-data-science/open-reproducible-science/get-started-open-reproducible-science/) involves making scientific methods, data and outcomes available to everyone. That means that *everyone* who wants should be able to **find**, **read**, **understand**, and **run** your workflows for themselves.\n",
    "\n",
    "<img alt-text=\"Components of open science - accessible, reproducible, inclusive\" src=\"https://www.earthdata.nasa.gov/s3fs-public/2021-11/Circle_Diagram_UPDATE_2.jpg?VersionId=pFRniRpjtgc_MEXUJKi9_sXLoMsSX.pB\" width=300 />\n",
    "\n",
    " > Image from https://www.earthdata.nasa.gov/esds/open-science/oss-for-eso-workshops\n",
    "\n",
    "Few, if any, science projects are 100% open and reproducible (yet!). However, members of the open science community have developed open source tools and practices that can help you move toward that goal. You will learn about many of those tools in &#128214; [the Intro to Earth Data Science textbook](https://www.earthdatascience.org/courses/intro-to-earth-data-science/). Don't worry about learning all the tools at once -- &#128214; [we've picked a few for you to get started with](https://www.earthdatascience.org/courses/intro-to-earth-data-science/open-reproducible-science/get-started-open-reproducible-science/open-science-tools-git-bash-jupyter/)."
   ]
  },
  {
   "cell_type": "markdown",
   "metadata": {
    "deletable": false,
    "editable": false,
    "nbgrader": {
     "cell_type": "markdown",
     "checksum": "897b11c5f758bf67ab16d98681dae3b7",
     "grade": false,
     "grade_id": "task-open-science",
     "locked": true,
     "points": 12,
     "schema_version": 3,
     "solution": false,
     "task": true
    }
   },
   "source": [
    "## &#9998; The what and how of open, reproducible science\n",
    "\n",
    "&#128187; Your task:\n",
    "  1. Make a new Markdown cell just below this cell\n",
    "  2. Create a **numbered list** in the new cell using Markdown\n",
    "  \n",
    "&#9998; In your new cell, answer the following questions in the numbered list:\n",
    "  1. In 1-2 sentences, define open reproducible science.\n",
    "  2. &#128214; If you didn't already, read about [open source tools](https://www.earthdatascience.org/courses/intro-to-earth-data-science/open-reproducible-science/get-started-open-reproducible-science/open-science-tools-git-bash-jupyter/) in the textbook. In 1-2 sentences, choose one tool that you have learned about, and explain how it supports open reproducible science.\n",
    "  3. In 1-2 sentences, does this Jupyter Notebook file have a machine-readable name? Explain your answer.\n"
   ]
  },
  {
   "cell_type": "markdown",
   "metadata": {},
   "source": [
    "1. Open reproducible science is science with methods that can be readily understood and reproduced for use with the same or new data, both by the original investigators and new investigators. Transparency, openness, and accessibility are essential parts of open reproducible science.  \n",
    "\n",
    "2. Jupyter Notebook supports open reproducible science by keeping many parts of a workflow's data processing, analysis and visualization in one public, easily-shareable place, which can be easily annotated to be made understandable.  \n",
    "\n",
    "3. This Jupyter Notebook file's name, \"00-open-science.ipynb\" is machine-readable as it doesn't have any spaces or unusual characters. "
   ]
  },
  {
   "cell_type": "markdown",
   "metadata": {
    "deletable": false,
    "editable": false,
    "nbgrader": {
     "cell_type": "markdown",
     "checksum": "8bcebd2d451d573a8e40a53eafa4fb59",
     "grade": false,
     "grade_id": "nar-clean-code",
     "locked": true,
     "schema_version": 3,
     "solution": false,
     "task": false
    }
   },
   "source": [
    "## Clean code is easier to read (and write, and reproduce)\n",
    "\n",
    "The files in this repository make up a scientific workflow for looking at maximum temperature over time in Rapid City, South Dakota.\n",
    "\n",
    "[![And because if you just leave it there, it's going to start contaminating things downstream even if no one touches it directly. (from https://xkcd.com/2138/)](https://imgs.xkcd.com/comics/wanna_see_the_code.png)](https://www.explainxkcd.com/wiki/index.php/2138:_Wanna_See_the_Code%3F)\n",
    "\n",
    "The comic above implies that code that is hard to read is also hard to get (and keep) working. We also refer to code that is easy to read as **clean** code."
   ]
  },
  {
   "cell_type": "markdown",
   "metadata": {
    "deletable": false,
    "editable": false,
    "nbgrader": {
     "cell_type": "markdown",
     "checksum": "61f8052b9f4d2822d49668b504008846",
     "grade": false,
     "grade_id": "task-clean-code",
     "locked": true,
     "points": 13,
     "schema_version": 3,
     "solution": false,
     "task": true
    }
   },
   "source": [
    "&#128187; Your task:\n",
    "  1. Convert the cell below to Markdown or Text (click on it, press `ESC`-`m`)\n",
    "  2. Create a **level 3 header** using Markdown for each of the questions below\n",
    "  3. In each header, create a **bulleted list** using Markdown\n",
    "  \n",
    "&#9998; In the (now Markdown) cell below, answer the following questions in the bulleted lists you made:\n",
    "  1. List 3 things you can do to write clean code\n",
    "  2. List 3 advantages of clean code\n",
    "  "
   ]
  },
  {
   "cell_type": "markdown",
   "metadata": {},
   "source": [
    "### 3 things I can do to write clean code\n",
    "    * Use expressive, comprehensible names for variables, functions, dataframes etc.\n",
    "    * Use the language's code syntax standards \n",
    "    * Use loops and functions to create modular code--don't repeat yourself\n",
    "### 3 advantages of clean code\n",
    "    * Can be easily scanned and understood by someone else\n",
    "    * Can be easily debugged\n",
    "    * Can be put down and later returned to without having to start over"
   ]
  }
 ],
 "metadata": {
  "colab": {
   "collapsed_sections": [],
   "name": "ea-bootcamp-01-get-started-reproducible-science-svetlana-kurakina.ipynb",
   "provenance": []
  },
  "kernelspec": {
   "display_name": "Python 3 (ipykernel)",
   "language": "python",
   "name": "python3"
  },
  "language_info": {
   "codemirror_mode": {
    "name": "ipython",
    "version": 3
   },
   "file_extension": ".py",
   "mimetype": "text/x-python",
   "name": "python",
   "nbconvert_exporter": "python",
   "pygments_lexer": "ipython3",
   "version": "3.10.12"
  },
  "toc": {
   "base_numbering": 1,
   "nav_menu": {},
   "number_sections": true,
   "sideBar": false,
   "skip_h1_title": true,
   "title_cell": "Table of Contents",
   "title_sidebar": "Contents",
   "toc_cell": false,
   "toc_position": {},
   "toc_section_display": true,
   "toc_window_display": false
  },
  "varInspector": {
   "cols": {
    "lenName": 16,
    "lenType": 16,
    "lenVar": 40
   },
   "kernels_config": {
    "python": {
     "delete_cmd_postfix": "",
     "delete_cmd_prefix": "del ",
     "library": "var_list.py",
     "varRefreshCmd": "print(var_dic_list())"
    },
    "r": {
     "delete_cmd_postfix": ") ",
     "delete_cmd_prefix": "rm(",
     "library": "var_list.r",
     "varRefreshCmd": "cat(var_dic_list()) "
    }
   },
   "types_to_exclude": [
    "module",
    "function",
    "builtin_function_or_method",
    "instance",
    "_Feature"
   ],
   "window_display": false
  }
 },
 "nbformat": 4,
 "nbformat_minor": 4
}
