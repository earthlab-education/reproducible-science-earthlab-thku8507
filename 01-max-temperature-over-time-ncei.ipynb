{
 "cells": [
  {
   "cell_type": "markdown",
   "metadata": {
    "tags": [
     "remove_cell"
    ]
   },
   "source": [
    "<div><img style=\"float: left; padding-right: 3em;\" src=\"https://avatars.githubusercontent.com/u/19476722\" width=\"150\" /><div/>\n",
    "\n",
    "# Earth Data Science Coding Challenge!\n",
    "Before we get started, make sure to read or review the guidelines below. These will help make sure that your code is **readable** and **reproducible**. "
   ]
  },
  {
   "cell_type": "markdown",
   "metadata": {
    "tags": [
     "remove_cell"
    ]
   },
   "source": [
    "## Don't get **caught** by these Jupyter notebook gotchas\n",
    "\n",
    "<img src=\"https://miro.medium.com/v2/resize:fit:4800/format:webp/1*o0HleR7BSe8W-pTnmucqHA.jpeg\" width=300 style=\"padding: 1em; border-style: solid; border-color: grey;\" />\n",
    "\n",
    "  > *Image source: https://alaskausfws.medium.com/whats-big-and-brown-and-loves-salmon-e1803579ee36*\n",
    "\n",
    "These are the most common issues that will keep you from getting started and delay your code review:\n",
    "\n",
    "1. When you try to run some code on GitHub Codespaces, you may be prompted to select a **kernel**.\n",
    "   * The **kernel** refers to the version of Python you are using\n",
    "   * You should use the **base** kernel, which should be the default option. \n",
    "   * You can also use the `Select Kernel` menu in the upper right to select the **base** kernel\n",
    "2. Before you commit your work, make sure it runs **reproducibly** by clicking:\n",
    "   1. `Restart` (this button won't appear until you've run some code), then\n",
    "   2. `Run All`\n",
    "\n",
    "## Check your code to make sure it's clean and easy to read\n",
    "\n",
    "<img src=\"https://encrypted-tbn0.gstatic.com/images?q=tbn:ANd9GcSO1w9WrbwbuMLN14IezH-iq2HEGwO3JDvmo5Y_hQIy7k-Xo2gZH-mP2GUIG6RFWL04X1k&usqp=CAU\" height=200 />\n",
    "\n",
    "* Format all cells prior to submitting (right click on your code).\n",
    "* Use expressive names for variables so you or the reader knows what they are. \n",
    "* Use comments to explain your code -- e.g. \n",
    "  ```python\n",
    "  # This is a comment, it starts with a hash sign\n",
    "  ```\n",
    "\n",
    "## Label and describe your plots\n",
    "\n",
    "![Source: https://xkcd.com/833](https://imgs.xkcd.com/comics/convincing.png)\n",
    "\n",
    "Make sure each plot has:\n",
    "  * A title that explains where and when the data are from\n",
    "  * x- and y- axis labels with **units** where appropriate\n",
    "  * A legend where appropriate\n",
    "\n",
    "\n",
    "## Icons: how to use this notebook\n",
    "We use the following icons to let you know when you need to change something to complete the challenge:\n",
    "  * &#128187; means you need to write or edit some code.\n",
    "  \n",
    "  * &#128214;  indicates recommended reading\n",
    "  \n",
    "  * &#9998; marks written responses to questions\n",
    "  \n",
    "  * &#127798; is an optional extra challenge\n",
    "  "
   ]
  },
  {
   "cell_type": "markdown",
   "metadata": {},
   "source": [
    "---"
   ]
  },
  {
   "cell_type": "markdown",
   "metadata": {
    "deletable": false,
    "editable": false,
    "nbgrader": {
     "cell_type": "markdown",
     "checksum": "25d7e31869a5545f20c74410a8a5eb04",
     "grade": false,
     "grade_id": "instr-overview",
     "locked": true,
     "schema_version": 3,
     "solution": false,
     "task": false
    }
   },
   "source": [
    "# Climate change is affecting temperatures in locations around the country\n",
    "\n",
    "In this notebook, you will complete the following **five steps**:\n",
    "  1. **Set up** your analysis by importing any necessary libraries\n",
    "  2. **Download** data from the National Centers for Environmental Information (NCEI) about annual maximum daily average temperatures in Los Angeles, CA.\n",
    "  3. **Clean up** some artifacts in the dates of the downloaded data\n",
    "  4. **Convert** temperature values from units of Fahrenheit to Celcius\n",
    "  5. **Plot** the data and write a headline/takeaway for your plot\n",
    "  \n",
    "Once you have finished running this example analysis, you will **create your own notebook** in which to duplicate the analysis in a location of your choosing.\n",
    "  \n",
    "In many locations around the U.S. (and the world!), climate change is causing **increased temperatures**. You will be able to see these trends in the Los Angeles data, and likely in data from other locations as well.\n",
    "\n",
    "*But first...you have to set up this notebook for your analysis.*\n",
    "\n",
    "***"
   ]
  },
  {
   "cell_type": "markdown",
   "metadata": {
    "deletable": false,
    "editable": false,
    "nbgrader": {
     "cell_type": "markdown",
     "checksum": "aa89f8dcb8bff3cbe8ad459ace447127",
     "grade": false,
     "grade_id": "step-1",
     "locked": true,
     "schema_version": 3,
     "solution": false,
     "task": false
    }
   },
   "source": [
    "## STEP 1: SET UP"
   ]
  },
  {
   "cell_type": "markdown",
   "metadata": {
    "deletable": false,
    "editable": false,
    "nbgrader": {
     "cell_type": "markdown",
     "checksum": "bda26707082a3b44ca10d30b0c293b7b",
     "grade": false,
     "grade_id": "instr-import",
     "locked": true,
     "schema_version": 3,
     "solution": false,
     "task": false
    }
   },
   "source": [
    "### Python is more powerful with **libraries**\n",
    "\n",
    "Because Python is **open source**, lots of different people and organizations can contribute (including you!). Many contributions are in the form of external &#128214; [**libraries**, also known as packages](https://www.earthdatascience.org/courses/intro-to-earth-data-science/python-code-fundamentals/use-python-packages/). Since they do not come with a standard Python download, &#128214; [external libraries need to be installed and **imported**](https://www.earthdatascience.org/courses/intro-to-earth-data-science/python-code-fundamentals/use-python-packages/). If you are using the `earth-analytics-python` environment on your computer or GitHub Codespaces, you should have everything you need installed.\n",
    "\n",
    "### There are excellent `Python` libraries for tabular data and plotting\n",
    "\n",
    "For this workflow, you will need the `pandas` library, which helps us to work with &#128214; [**tabular data** such as comma-separated value or csv files](https://www.earthdatascience.org/courses/intro-to-earth-data-science/file-formats/use-text-files/). You can think of tabular data as being like a **spreadsheet or database**. \n",
    "\n",
    "> It is customary to import the `pandas` library under its **alias** `pd`, to avoid taking up too much space when you use the library.\n",
    "\n",
    "You will also use the [`hvplot` library from Holoviz](https://hvplot.holoviz.org/index.html) to plot your results. There are many ways to plot in `Python`, but `hvplot` is both simple to use and powerful.\n",
    "\n",
    "### &#128187; YOUR TASK:\n",
    "\n",
    "Here is some code to import the pandas library, but **watch out! - there's a couple mistakes**:\n",
    "\n",
    "```python\n",
    "import hvplot.pands\n",
    "import pands as pd\n",
    "```\n",
    "\n",
    "Using the code above as a starting point, complete the following **two** steps:\n",
    "  1. [ ] Paste the code from above into the **code cell** below:\n",
    "  2. [ ] **Correct the typos** to properly import the pandas library under its **alias** pd as well as the hvplot pandas extension."
   ]
  },
  {
   "cell_type": "code",
   "execution_count": null,
   "metadata": {
    "deletable": false,
    "nbgrader": {
     "cell_type": "code",
     "checksum": "fb229bd2fd9eb97b40ce396d41871b88",
     "grade": false,
     "grade_id": "code-import",
     "locked": false,
     "schema_version": 3,
     "solution": true,
     "task": false
    }
   },
   "outputs": [],
   "source": [
    "# YOUR CODE HERE\n",
    "raise NotImplementedError()"
   ]
  },
  {
   "cell_type": "markdown",
   "metadata": {
    "deletable": false,
    "editable": false,
    "nbgrader": {
     "cell_type": "markdown",
     "checksum": "862f854176d183ed8d30e9e4be500725",
     "grade": false,
     "grade_id": "test-instructions",
     "locked": true,
     "schema_version": 3,
     "solution": false,
     "task": false
    }
   },
   "source": [
    "The test cell below it will tell you if you completed the task successfully. **Do not try to modify the test cells.** If a test cell isn't working, check that you ran your code immediately before running the test."
   ]
  },
  {
   "cell_type": "code",
   "execution_count": null,
   "metadata": {
    "code_folding": [],
    "deletable": false,
    "editable": false,
    "nbgrader": {
     "cell_type": "code",
     "checksum": "f77950e1404be256ea369f4c78beb2a8",
     "grade": true,
     "grade_id": "test-import",
     "locked": true,
     "points": 6,
     "schema_version": 3,
     "solution": false,
     "task": false
    }
   },
   "outputs": [],
   "source": [
    "# RUN THIS TEST CELL TO CHECK YOUR ANSWER - DO NOT MODIFY\n",
    "points = 0\n",
    "try:\n",
    "    pd.DataFrame()\n",
    "    points += 3\n",
    "    print('\\u2705 Great work! '\n",
    "          'You correctly imported the pandas library.')\n",
    "except:\n",
    "    print('\\u274C Oops - pandas was not imported correctly.')\n",
    "    \n",
    "try:\n",
    "    pd.DataFrame().hvplot\n",
    "    points += 3\n",
    "    print('\\u2705 Great work! '\n",
    "          'You correctly imported the hvplot.pandas library.')\n",
    "except:\n",
    "    print('\\u274C Oops - hvplot.pandas was not imported correctly.')\n",
    "    \n",
    "print('You earned {} of 5 points for importing libraries'.format(points))"
   ]
  },
  {
   "cell_type": "markdown",
   "metadata": {
    "deletable": false,
    "editable": false,
    "nbgrader": {
     "cell_type": "markdown",
     "checksum": "88fe19e501d963a96f0d547e13c55e66",
     "grade": false,
     "grade_id": "step-2",
     "locked": true,
     "schema_version": 3,
     "solution": false,
     "task": false
    }
   },
   "source": [
    "## STEP 2: DOWNLOAD DATA"
   ]
  },
  {
   "cell_type": "markdown",
   "metadata": {
    "deletable": false,
    "editable": false,
    "nbgrader": {
     "cell_type": "markdown",
     "checksum": "11cc8afdaec406fa4c623b2769ee1f07",
     "grade": false,
     "grade_id": "task-data-source",
     "locked": true,
     "points": 15,
     "schema_version": 3,
     "solution": false,
     "task": true
    }
   },
   "source": [
    "### Every day, petabytes of new Earth Observation data are made available online\n",
    "\n",
    "This workflow uses **annual mean temperature data** from the U.S. National Centers for Environmental Information (NCEI). &#128214; [Check out the NCEI Climate at a Glance website where you can search for more data like this](https://www.ncei.noaa.gov/access/monitoring/climate-at-a-glance/).\n",
    "\n",
    "![National Centers for Environmental Information Logo](https://www.nesdis.noaa.gov/s3/migrated/ncei_icon_550px.jpg)\n",
    "\n",
    "#### &#9998; YOUR TASK:\n",
    "  1. [ ] In the cell below, write a 2-3 sentence description of the data source. You should describe who takes the data, where they were taken, what the maximum temperature units are, and how they are collected.\n",
    "  2. [ ] Include a citation of the data (HINT: NCEI has a section for 'Citing this page', but you will have to select a particular dataset such as City > Time Series).\n",
    "  3. [ ] Add some **context** to your data analysis - research Los Angeles, CA and write a 2-3 sentence **site description**, including a relevant **image**. Don't forget to include the source of your image!\n",
    "  \n",
    "> HINT: double-click on the Markdown cells below to modify them.\n",
    "  "
   ]
  },
  {
   "cell_type": "markdown",
   "metadata": {},
   "source": [
    "WRITE YOUR DATA DESCRIPTION HERE"
   ]
  },
  {
   "cell_type": "markdown",
   "metadata": {},
   "source": [
    "WRITE YOUR DATA CITATION HERE"
   ]
  },
  {
   "cell_type": "markdown",
   "metadata": {},
   "source": [
    "WRITE YOUR SITE DESCRIPTION HERE"
   ]
  },
  {
   "cell_type": "markdown",
   "metadata": {
    "deletable": false,
    "editable": false,
    "nbgrader": {
     "cell_type": "markdown",
     "checksum": "db3772b7bb18849a87ba131fbd5ff526",
     "grade": false,
     "grade_id": "instr-url",
     "locked": true,
     "schema_version": 3,
     "solution": false,
     "task": false
    }
   },
   "source": [
    "### Use a Uniform Resource Locator (URL) from NCEI to download data\n",
    "\n",
    "Here is a URL you can use to download the NCEI data you will need. Go ahead and &#128187; **copy and paste it into the code cell below**:\n",
    "\n",
    "```python\n",
    "'https://www.ncei.noaa.gov/access/monitoring/climate-at-a-glance/city/time-series/USW00023174/tavg/12/12/1945-2022.csv'\n",
    "```\n",
    "\n",
    "The URL is correct! However, we still have a problem - we can't get the URL back later on because it doesn't have a **name**. Right now, it just disappears into the void! \n",
    "\n",
    "<img src=\"https://upload.wikimedia.org/wikipedia/commons/thumb/c/cf/Black_hole_-_Messier_87.jpg/320px-Black_hole_-_Messier_87.jpg\" width=300 />\n",
    "\n",
    "> Image source: [Black Hole from Wikipedia](https://commons.wikimedia.org/wiki/File:Black_hole_-_Messier_87.jpg)\n",
    "\n",
    "#### &#128187; YOUR TASK:\n",
    "  1. [ ] Pick an **expressive name** for the URL value\n",
    "  2. [ ] **Reformat the URL** so that it adheres to the [79-character PEP-8 line limit](https://peps.python.org/pep-0008/#maximum-line-length)\n",
    "  3. [ ] **Call your url** (type out its name) at the end of the cell to test it.\n",
    "  \n",
    "#### &#128214; Read about [how to name a value](https://earthlab-education.github.io/Earth-Analytics-2023-01-Intro/intro-eds-textbook/04-python-fundamentals/01-get-started-python/python-fundamentals-02-variables.html) in Python in the textbook."
   ]
  },
  {
   "cell_type": "code",
   "execution_count": null,
   "metadata": {
    "deletable": false,
    "nbgrader": {
     "cell_type": "code",
     "checksum": "bf696b5c36aa37fb45d584c8b3c5afed",
     "grade": false,
     "grade_id": "ans-url",
     "locked": false,
     "schema_version": 3,
     "solution": true,
     "task": false
    }
   },
   "outputs": [],
   "source": [
    "# YOUR CODE HERE\n",
    "raise NotImplementedError()"
   ]
  },
  {
   "cell_type": "code",
   "execution_count": null,
   "metadata": {
    "code_folding": [
     0
    ],
    "deletable": false,
    "editable": false,
    "nbgrader": {
     "cell_type": "code",
     "checksum": "fde4af723ed22821448bae7bac784caf",
     "grade": true,
     "grade_id": "test-url",
     "locked": true,
     "points": 5,
     "schema_version": 3,
     "solution": false,
     "task": false
    }
   },
   "outputs": [],
   "source": [
    "# RUN THIS TEST CELL TO CHECK YOUR ANSWER - DO NOT MODIFY\n",
    "url_ans = _\n",
    "points = 0\n",
    "\n",
    "import subprocess\n",
    "\n",
    "# Check the the answer was called for testing\n",
    "if isinstance(url_ans, str):\n",
    "    points += 1\n",
    "    print('\\u2705 Great work! You called a string.')\n",
    "else:\n",
    "    print('\\u274C Oops - make sure to call your url string for testing.')\n",
    "\n",
    "# Check the URL length to make sure it got copied correctly\n",
    "if len(url_ans) == 117:\n",
    "    points += 4\n",
    "    print('\\u2705 Great work! Your URL is the correct length.')\n",
    "else:\n",
    "    print('\\u274C Oops - your URL is not correct.')\n",
    "    \n",
    "# Subtract one point for any PEP-8 errors\n",
    "tmp_path = \"tmp.py\"\n",
    "with open(tmp_path, \"w\") as tmp_file:\n",
    "    tmp_file.write(In[-2])\n",
    "    \n",
    "ignore_flake8 = 'W292,F401,E302'\n",
    "flake8_out = subprocess.run(\n",
    "    ['flake8', \n",
    "     '--ignore', ignore_flake8, \n",
    "     '--import-order-style', 'edited',\n",
    "     '--count', \n",
    "     tmp_path],\n",
    "    stdout=subprocess.PIPE,\n",
    ").stdout.decode(\"ascii\")\n",
    "print('Formatting problems:')\n",
    "print(flake8_out)\n",
    "\n",
    "points -= int(flake8_out.splitlines()[-1])\n",
    "\n",
    "print('You earned {} of 5 points for naming the URL variable'.format(points))"
   ]
  },
  {
   "cell_type": "markdown",
   "metadata": {
    "deletable": false,
    "editable": false,
    "nbgrader": {
     "cell_type": "markdown",
     "checksum": "ec4206b3990ea951419fe9388676dc97",
     "grade": false,
     "grade_id": "hint-whos",
     "locked": true,
     "schema_version": 3,
     "solution": false,
     "task": false
    }
   },
   "source": [
    "  > HINT: You can run the `%whos` **iPython magic command** to list all your variables (those are the ones that you can use at that moment). Many Python editors also have variable inspector features that will show you all your variables. Your url value will not be available until you save it to a variable. **Run the cell below and then check that your variable has been created**. Note that there will be other variables in the NameSpace."
   ]
  },
  {
   "cell_type": "code",
   "execution_count": null,
   "metadata": {},
   "outputs": [],
   "source": [
    "# List all current variables\n",
    "%whos"
   ]
  },
  {
   "cell_type": "markdown",
   "metadata": {
    "deletable": false,
    "editable": false,
    "nbgrader": {
     "cell_type": "markdown",
     "checksum": "184b3eaad2ecdf3e46666b410fb22388",
     "grade": false,
     "grade_id": "task-download",
     "locked": true,
     "points": 10,
     "schema_version": 3,
     "solution": false,
     "task": true
    }
   },
   "source": [
    "### Use pandas to download the data\n",
    "\n",
    "The `pandas` library you imported can download data from the internet directly into a type of Python **object** called a `DataFrame`\n",
    "\n",
    "#### What do you notice about the code below? \n",
    "\n",
    "Here is some (not very clean) code to download NCEI data using `pandas`:\n",
    "\n",
    "```python\n",
    "dataframe = pd.read_csv(my_url, header=2, names=['col_1', 'col_2'])\n",
    "dataframe\n",
    "```\n",
    "\n",
    "#### &#9998; YOUR TASK: **Modify** the Markdown cell below and answer the following questions in a **numbered list**\n",
    "\n",
    "  1. [ ] What do you think the **parameters** of the `pd.read_csv()` function (e.g. `my_url`, `header`, `names`) are supposed to do? \n",
    "     \n",
    "     > HINT: &#128214; Check out [the pandas read_csv() documentation](https://pandas.pydata.org/docs/reference/api/pandas.read_csv.html) for more info. You can also try changing putting the code in a code cell below running it with different values. See what happens!\n",
    "    \n",
    "  2. [ ] What are two things you could do to make this code more **expressive**?\n",
    "  "
   ]
  },
  {
   "cell_type": "markdown",
   "metadata": {},
   "source": [
    "ANSWER THE QUESTIONS ABOUT PANDAS.READ_CSV() HERE"
   ]
  },
  {
   "cell_type": "markdown",
   "metadata": {
    "deletable": false,
    "editable": false,
    "nbgrader": {
     "cell_type": "markdown",
     "checksum": "79f788ca762c834a242bacbb8c61cd7b",
     "grade": false,
     "grade_id": "instr-download",
     "locked": true,
     "schema_version": 3,
     "solution": false,
     "task": false
    }
   },
   "source": [
    "### &#128187; Let's fix some code! YOUR TASK:\n",
    "  1. [ ] Copy the example code from above into the cell below. Make any changes needed to get this code to run. Here's some hints:\n",
    "    > HINT: The my_url variable doesn't exist - you need to replace it with the variable name **you** chose.\n",
    "  2. [ ] Modify the value of the `header` parameter so that **only numeric data values** are included in each column.\n",
    "  3. [ ] Clean up the code by using **comments**, **expressive variable names**, **expressive column names**, and **PEP-8 compliant code**\n",
    "\n",
    "**Make sure to call your `DataFrame` by typing it's name as the last line of your code cell** Then, you will be able to run the test cell below and find out if your answer is correct."
   ]
  },
  {
   "cell_type": "code",
   "execution_count": null,
   "metadata": {
    "deletable": false,
    "nbgrader": {
     "cell_type": "code",
     "checksum": "7be14fe3d75462ced1803cf9a1a52cf2",
     "grade": false,
     "grade_id": "ans-download",
     "locked": false,
     "schema_version": 3,
     "solution": true,
     "task": false
    }
   },
   "outputs": [],
   "source": [
    "# YOUR CODE HERE\n",
    "raise NotImplementedError()"
   ]
  },
  {
   "cell_type": "code",
   "execution_count": null,
   "metadata": {
    "code_folding": [
     0
    ],
    "deletable": false,
    "editable": false,
    "nbgrader": {
     "cell_type": "code",
     "checksum": "26bfaa4eac2447772d1eb5baf57913c6",
     "grade": true,
     "grade_id": "tests-download",
     "locked": true,
     "points": 7,
     "schema_version": 3,
     "solution": false,
     "task": false
    }
   },
   "outputs": [],
   "source": [
    "# RUN THIS TEST CELL TO CHECK YOUR ANSWER - DO NOT MODIFY\n",
    "tmax_df_resp = _\n",
    "points = 0\n",
    "\n",
    "# Check that a DataFrame was called for testing\n",
    "if isinstance(tmax_df_resp, pd.DataFrame):\n",
    "    points += 1\n",
    "    print('\\u2705 Great work! You called a DataFrame.')\n",
    "else:\n",
    "    print('\\u274C Oops - make sure to call your DataFrame for testing.')\n",
    "    \n",
    "# Check that the DataFrame has the correct values\n",
    "summary = [round(val, 2) for val in tmax_df_resp.mean().values]\n",
    "if summary == [198362.0, 61.93]:\n",
    "    points += 6\n",
    "    print('\\u2705 Great work! You correctly downloaded data.')\n",
    "else:\n",
    "    print('\\u274C Oops - your data are not correct.')\n",
    "    \n",
    "# Subtract one point for any PEP-8 errors\n",
    "tmp_path = \"tmp.py\"\n",
    "with open(tmp_path, \"w\") as tmp_file:\n",
    "    tmp_file.write(In[-2])\n",
    "    \n",
    "ignore_flake8 = 'W292,F401,E302,F821'\n",
    "flake8_out = subprocess.run(\n",
    "    ['flake8', \n",
    "     '--ignore', ignore_flake8, \n",
    "     '--import-order-style', 'edited',\n",
    "     '--count', \n",
    "     tmp_path],\n",
    "    stdout=subprocess.PIPE,\n",
    ").stdout.decode(\"ascii\")\n",
    "print('Formatting problems:')\n",
    "print(flake8_out)\n",
    "points -= int(flake8_out.splitlines()[-1])\n",
    "\n",
    "print('You earned {} of 7 points for downloading data'.format(points))"
   ]
  },
  {
   "cell_type": "markdown",
   "metadata": {
    "deletable": false,
    "editable": false,
    "nbgrader": {
     "cell_type": "markdown",
     "checksum": "9ef7160af3cb5318a0122d7e0a7a1462",
     "grade": false,
     "grade_id": "step-3",
     "locked": true,
     "schema_version": 3,
     "solution": false,
     "task": false
    }
   },
   "source": [
    "## STEP 3: CLEAN UP"
   ]
  },
  {
   "attachments": {
    "image.png": {
     "image/png": "[encoded data removed]"
    }
   },
   "cell_type": "markdown",
   "metadata": {
    "deletable": false,
    "editable": false,
    "nbgrader": {
     "cell_type": "markdown",
     "checksum": "aca04dfb60cbb0b97ca69ddab63a7359",
     "grade": false,
     "grade_id": "instr-format",
     "locked": true,
     "schema_version": 3,
     "solution": false,
     "task": false
    }
   },
   "source": [
    "### It's very rare for downloaded data to be formatted *exactly* how we want when it is imported into `Python`\n",
    "\n",
    "First things first - Take a look at your data. Do you want to use it as is, or does it need to be modified?\n",
    "\n",
    "![image.png](attachment:image.png)"
   ]
  },
  {
   "cell_type": "markdown",
   "metadata": {
    "deletable": false,
    "editable": false,
    "nbgrader": {
     "cell_type": "markdown",
     "checksum": "3b0f34249675257e008b8bb9ec38b818",
     "grade": false,
     "grade_id": "instr-get-year",
     "locked": true,
     "schema_version": 3,
     "solution": false,
     "task": false
    }
   },
   "source": [
    "### &#128187; YOUR TASK:\n",
    "\n",
    "Below you will find some code that will extract the year from the funky yearmonth value NCEI gives us.\n",
    "\n",
    "```python\n",
    "dataframe.year = pd.to_datetime(dataframe.year, format='????').dt.year\n",
    "dataframe\n",
    "```\n",
    "\n",
    "> This code:\n",
    ">   1. Converts the yearmonth value to a `Datetime` type (`pd.to_datetime()`)\n",
    ">   2. Extracts only the year (`.dt.year`)\n",
    ">   3. Saves the year value back to the dataframe \"year\" column.\n",
    "\n",
    "Complete the following with the code above as a starting point:\n",
    "1. [ ] Copy and paste the code above into the code cell below\n",
    "2. [ ] Replace `dataframe` with the name of **your** dataframe whenever it appears.\n",
    "3. [ ] Replace `????` with the correct **date formatting string**. \n",
    " \n",
    " > HINT: Check out [the Python strftime documentation](https://docs.python.org/3/library/datetime.html#strftime-and-strptime-behavior).\n",
    " \n",
    "***\n",
    "\n",
    "### GOTCHA ALERT! We have a problem\n",
    "\n",
    "If you run this code twice, it will not run and you will get a `ValueError`. This happens because once you have extracted the **year only**, the format string you put in no longer applies.\n",
    "\n",
    "You don't have to do anything about this now - you can go `Run all above` (this is in the `Cell` menu in Jupyter Notebook) to reset. In the future, there are three approaches we recommend to address this sort of problem, depending on what you need your code to do:\n",
    "  1. Do not modify a `DataFrame` after it has been created - perform any changes you need in the **same cell** where you create the `DataFrame` using `pd.read_csv()`.\n",
    "  2. Create a new column when you want to compute new values (more on how to do this below).\n",
    "  3. Save a copy of the `DataFrame` using the `.copy()` method of `DataFrame`s and modify the copy (in the same cell).\n",
    "  \n",
    "When you reproduce this workflow in a location of your choosing, you can implement one of these strategies."
   ]
  },
  {
   "cell_type": "code",
   "execution_count": null,
   "metadata": {
    "deletable": false,
    "nbgrader": {
     "cell_type": "code",
     "checksum": "8216c3b7b2db4fcf59b8811880bbbae9",
     "grade": false,
     "grade_id": "ans-get-year",
     "locked": false,
     "schema_version": 3,
     "solution": true,
     "task": false
    }
   },
   "outputs": [],
   "source": [
    "# YOUR CODE HERE\n",
    "raise NotImplementedError()"
   ]
  },
  {
   "cell_type": "code",
   "execution_count": null,
   "metadata": {
    "code_folding": [
     0
    ],
    "deletable": false,
    "editable": false,
    "nbgrader": {
     "cell_type": "code",
     "checksum": "8f835df2084b2db925673bd928ba04ee",
     "grade": true,
     "grade_id": "tests-year",
     "locked": true,
     "points": 7,
     "schema_version": 3,
     "solution": false,
     "task": false
    }
   },
   "outputs": [],
   "source": [
    "# RUN THIS TEST CELL TO CHECK YOUR ANSWER - DO NOT MODIFY\n",
    "year_df_resp = _\n",
    "points = 0\n",
    "\n",
    "# Check that a DataFrame was called for testing\n",
    "if isinstance(year_df_resp, pd.DataFrame):\n",
    "    points += 1\n",
    "    print('\\u2705 Great work! You called a DataFrame.')\n",
    "else:\n",
    "    print('\\u274C Oops - make sure to call your DataFrame for testing.')\n",
    "    \n",
    "# Check that the DataFrame has the correct values\n",
    "summary = [round(val, 2) for val in year_df_resp.mean().values]\n",
    "if summary == [1983.5, 61.93]:\n",
    "    points += 6\n",
    "    print('\\u2705 Great work! You correctly extracted the year.')\n",
    "else:\n",
    "    print('\\u274C Oops - your data are not correct.')\n",
    "    \n",
    "# Subtract one point for any PEP-8 errors\n",
    "tmp_path = \"tmp.py\"\n",
    "with open(tmp_path, \"w\") as tmp_file:\n",
    "    tmp_file.write(In[-2])\n",
    "    \n",
    "ignore_flake8 = 'W292,F401,E302,F821'\n",
    "flake8_out = subprocess.run(\n",
    "    ['flake8', \n",
    "     '--ignore', ignore_flake8, \n",
    "     '--import-order-style', 'edited',\n",
    "     '--count', \n",
    "     tmp_path],\n",
    "    stdout=subprocess.PIPE,\n",
    ").stdout.decode(\"ascii\")\n",
    "print('Formatting problems:')\n",
    "print(flake8_out)\n",
    "points -= int(flake8_out.splitlines()[-1])\n",
    "\n",
    "print('You earned {} of 5 points for extracting the year'.format(points))"
   ]
  },
  {
   "cell_type": "markdown",
   "metadata": {
    "deletable": false,
    "editable": false,
    "nbgrader": {
     "cell_type": "markdown",
     "checksum": "47fe56ca846300a0f5367ca0430409c8",
     "grade": false,
     "grade_id": "step-4",
     "locked": true,
     "schema_version": 3,
     "solution": false,
     "task": false
    }
   },
   "source": [
    "## STEP 4: CONVERT UNITS"
   ]
  },
  {
   "cell_type": "markdown",
   "metadata": {
    "deletable": false,
    "editable": false,
    "nbgrader": {
     "cell_type": "markdown",
     "checksum": "20f9c33de17f79118a42784e81f336dc",
     "grade": false,
     "grade_id": "instr-units",
     "locked": true,
     "schema_version": 3,
     "solution": false,
     "task": false
    }
   },
   "source": [
    "### For scientific applications, it is often useful to have values in metric units\n",
    "\n",
    "When you cited the data, you should have noted that temperature was in units of degrees Fahrenheit. Often we want data in metric units, because it makes important calculations (say, sensible heat from temperature) easier. Plus you don't want to be like the [NASA team who crashed a probe into Mars because different teams used different units](https://www.latimes.com/archives/la-xpm-1999-oct-01-mn-17288-story.html))!"
   ]
  },
  {
   "cell_type": "markdown",
   "metadata": {
    "deletable": false,
    "editable": false,
    "nbgrader": {
     "cell_type": "markdown",
     "checksum": "3c26c3284035eb4cef2fab8e04b63760",
     "grade": false,
     "grade_id": "instr-convert",
     "locked": true,
     "schema_version": 3,
     "solution": false,
     "task": false
    }
   },
   "source": [
    "### &#128187; YOUR TASK:\n",
    "\n",
    "The code below converts the data to Celcius, using Python mathematical **operators**, like `+`, `-`, `*`, and `/`. Again, it's not well documented and doesn't follow [PEP-8 guidelines](https://peps.python.org/pep-0008/#other-recommendations), which has caused the author to miss an **important error**!\n",
    "\n",
    "```python\n",
    "dataframe['new_temperature']= dataframe['old_temperature']-32*5/9\n",
    "dataframe\n",
    "```\n",
    "\n",
    "Complete the following steps:\n",
    "1. [ ] Replace `dataframe` with the name of **your** `DataFrame`.\n",
    "2. [ ] Replace `'old_temperature'` with the column name **you** used; Replace `'new_temperature'` with an **expressive** column name. \n",
    "3. [ ] **THERE IS AN ERROR IN THE CONVERSION - Fix it!**\n",
    "  \n",
    "### Want an EXTRA CHALLENGE?\n",
    "Using the code below as a framework, write and apply a **function** that converts to Celcius. You should also rewrite this function name to be more expressive.\n",
    "  \n",
    "```python\n",
    "def convert(temperature):\n",
    "    \"\"\"Convert temperature to Celcius\"\"\"\n",
    "    return temperature # Put your equation in here\n",
    "\n",
    "dataframe['temp_c'] = dataframe['temp_f'].apply(convert)\n",
    "```"
   ]
  },
  {
   "cell_type": "code",
   "execution_count": null,
   "metadata": {
    "deletable": false,
    "nbgrader": {
     "cell_type": "code",
     "checksum": "8f96dd37422ad2aca9c12474b164b8b3",
     "grade": false,
     "grade_id": "ans-convert",
     "locked": false,
     "schema_version": 3,
     "solution": true,
     "task": false
    }
   },
   "outputs": [],
   "source": [
    "# YOUR CODE HERE\n",
    "raise NotImplementedError()"
   ]
  },
  {
   "cell_type": "code",
   "execution_count": null,
   "metadata": {
    "code_folding": [
     0
    ],
    "deletable": false,
    "editable": false,
    "nbgrader": {
     "cell_type": "code",
     "checksum": "8854c917a311fca99c8e1508972174be",
     "grade": true,
     "grade_id": "tests-convert",
     "locked": true,
     "points": 10,
     "schema_version": 3,
     "solution": false,
     "task": false
    }
   },
   "outputs": [],
   "source": [
    "# RUN THIS TEST CELL TO CHECK YOUR ANSWER - DO NOT MODIFY\n",
    "celcius_df_resp = _\n",
    "points = 0\n",
    "\n",
    "# Check that a DataFrame was called for testing\n",
    "if isinstance(celcius_df_resp, pd.DataFrame):\n",
    "    points += 1\n",
    "    print('\\u2705 Great work! You called a DataFrame.')\n",
    "else:\n",
    "    print('\\u274C Oops - make sure to call your DataFrame for testing.')\n",
    "    \n",
    "# Check that the DataFrame has the correct values\n",
    "summary = [round(val, 2) for val in celcius_df_resp.mean().values]\n",
    "if summary == [1983.5, 61.93, 16.63]:\n",
    "    points += 9\n",
    "    print('\\u2705 Great work! You correctly converted units.')\n",
    "else:\n",
    "    print('\\u274C Oops - your data are not correct.')\n",
    "    \n",
    "# Subtract one point for any PEP-8 errors\n",
    "tmp_path = \"tmp.py\"\n",
    "with open(tmp_path, \"w\") as tmp_file:\n",
    "    tmp_file.write(In[-2])\n",
    "    \n",
    "ignore_flake8 = 'W292,F401,E302,F821'\n",
    "flake8_out = subprocess.run(\n",
    "    ['flake8', \n",
    "     '--ignore', ignore_flake8, \n",
    "     '--import-order-style', 'edited',\n",
    "     '--count', \n",
    "     tmp_path],\n",
    "    stdout=subprocess.PIPE,\n",
    ").stdout.decode(\"ascii\")\n",
    "print('Formatting problems:')\n",
    "print(flake8_out)\n",
    "points -= int(flake8_out.splitlines()[-1])\n",
    "\n",
    "print('You earned {} of 10 points for converting units'.format(points))"
   ]
  },
  {
   "cell_type": "markdown",
   "metadata": {
    "deletable": false,
    "editable": false,
    "nbgrader": {
     "cell_type": "markdown",
     "checksum": "5a53678eee78f3d5b42e94d767c6a053",
     "grade": false,
     "grade_id": "step-5",
     "locked": true,
     "schema_version": 3,
     "solution": false,
     "task": false
    }
   },
   "source": [
    "## STEP 5: PLOT"
   ]
  },
  {
   "cell_type": "markdown",
   "metadata": {
    "deletable": false,
    "editable": false,
    "nbgrader": {
     "cell_type": "markdown",
     "checksum": "8359107d542bdc810c887e14de41f37a",
     "grade": false,
     "grade_id": "task-plot",
     "locked": true,
     "points": 15,
     "schema_version": 3,
     "solution": false,
     "task": true
    }
   },
   "source": [
    "### Plot the Maximum Annual Temperature in Los Angeles, CA, USA\n",
    "\n",
    "Present your work visually with a time-series plot of the maximum temperature values you downloaded.\n",
    "\n",
    "### &#128187; YOUR TASK:\n",
    "The code below is an attempt to plot the maximum temperature data with `Python`.\n",
    "\n",
    "```python\n",
    "dataframe.hvplot(x='col_1', y='col_2')\n",
    "```\n",
    "It's easy to plot in Python, but not quite this easy! You'll always need to add some instructions on labels and how you want your plot to look. Using the code above as a starting point, complete the following **four** steps:\n",
    "\n",
    "  1. [ ] Change `dataframe` to **your** `DataFrame` name.\n",
    "  2. [ ] Change `'col_1'` and `'col_2'` to **your** column names\n",
    "  3. [ ] Use the `title`, `ylabel`, and `xlabel` parameters to add key text to your plot.\n",
    "     > HINT: labels have to be a type in Python called a **string**. You can make a string by putting quotes around your label, just like the column names in the sample code.\n",
    "  4. [ ] &#9998; Write a **headline** for your plot in the markdown cell below\n",
    "    \n",
    "### &#x1F336; If you want an EXTRA CHALLENGE:\n",
    "Take a look at the [hvplot reference gallery](https://hvplot.holoviz.org/reference/index.html) to see if there's other changes you want to make to your plot. Some possibilities include:\n",
    "  * Remove the legend since there's only one data series\n",
    "  * Increase the figure size\n",
    "  * Increase the font size\n",
    "  * Change the colors\n",
    "  * Use a bar graph instead (usually we use lines for time series, but since this is annual it could go either way)\n",
    "  * [Add a trend line](https://holoviews.org/reference/elements/bokeh/Slope.html)\n",
    "  \n",
    "> HINT: to add a trend line, you will need to `import holoviews as hv` at the beginning of your notebook\n"
   ]
  },
  {
   "cell_type": "markdown",
   "metadata": {},
   "source": [
    "YOUR PLOT HEADLINE HERE"
   ]
  },
  {
   "cell_type": "code",
   "execution_count": null,
   "metadata": {
    "deletable": false,
    "nbgrader": {
     "cell_type": "code",
     "checksum": "c8bec3cfc289cc951f570aeb342200d5",
     "grade": false,
     "grade_id": "ans-plot",
     "locked": false,
     "schema_version": 3,
     "solution": true,
     "task": false
    }
   },
   "outputs": [],
   "source": [
    "# YOUR CODE HERE\n",
    "raise NotImplementedError()"
   ]
  }
 ],
 "metadata": {
  "colab": {
   "collapsed_sections": [],
   "name": "ea-bootcamp-01-get-started-reproducible-science-svetlana-kurakina.ipynb",
   "provenance": []
  },
  "kernelspec": {
   "display_name": "Python 3 (ipykernel)",
   "language": "python",
   "name": "python3"
  },
  "language_info": {
   "codemirror_mode": {
    "name": "ipython",
    "version": 3
   },
   "file_extension": ".py",
   "mimetype": "text/x-python",
   "name": "python",
   "nbconvert_exporter": "python",
   "pygments_lexer": "ipython3",
   "version": "3.10.12"
  },
  "toc": {
   "base_numbering": 1,
   "nav_menu": {},
   "number_sections": true,
   "sideBar": false,
   "skip_h1_title": true,
   "title_cell": "Table of Contents",
   "title_sidebar": "Contents",
   "toc_cell": false,
   "toc_position": {},
   "toc_section_display": true,
   "toc_window_display": false
  },
  "varInspector": {
   "cols": {
    "lenName": 16,
    "lenType": 16,
    "lenVar": 40
   },
   "kernels_config": {
    "python": {
     "delete_cmd_postfix": "",
     "delete_cmd_prefix": "del ",
     "library": "var_list.py",
     "varRefreshCmd": "print(var_dic_list())"
    },
    "r": {
     "delete_cmd_postfix": ") ",
     "delete_cmd_prefix": "rm(",
     "library": "var_list.r",
     "varRefreshCmd": "cat(var_dic_list()) "
    }
   },
   "types_to_exclude": [
    "module",
    "function",
    "builtin_function_or_method",
    "instance",
    "_Feature"
   ],
   "window_display": false
  }
 },
 "nbformat": 4,
 "nbformat_minor": 4
}
